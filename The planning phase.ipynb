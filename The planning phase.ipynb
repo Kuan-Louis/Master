{
 "metadata": {
  "name": ""
 },
 "nbformat": 3,
 "nbformat_minor": 0,
 "worksheets": [
  {
   "cells": [
    {
     "cell_type": "heading",
     "level": 1,
     "metadata": {},
     "source": [
      "Multi-scale modeling of nanostructured tight rocks"
     ]
    },
    {
     "cell_type": "heading",
     "level": 2,
     "metadata": {},
     "source": [
      "MD-direction"
     ]
    },
    {
     "cell_type": "heading",
     "level": 3,
     "metadata": {},
     "source": [
      "Defining my goals"
     ]
    },
    {
     "cell_type": "heading",
     "level": 4,
     "metadata": {},
     "source": [
      "Develop a MD model for shale-fluid system"
     ]
    },
    {
     "cell_type": "markdown",
     "metadata": {},
     "source": [
      "* Using the ClayFF model for the shale-fluid system\n",
      "* Make $ H_2O $, $ CO_2 $, and $ CH_4 $\n",
      "* Develop a method for generating realistic microstructures in the shale\n",
      "    * geometry of the tight rock (slate/shale)\n",
      "    * bondlength, internal distances, geometry\n",
      "    * are these values being conserved during the simulation?\n",
      "* Validation and comparison with experimental results/datas\n",
      "    * bondlenght\n",
      "    * density\n",
      "    * self diffusion, diffusion constant\n",
      "    * viscosity?\n",
      "    * radial distribution\n",
      "    * radius of gyration \n"
     ]
    },
    {
     "cell_type": "heading",
     "level": 4,
     "metadata": {},
     "source": [
      "Study water structure and dynamics in realistic shale microstructures"
     ]
    },
    {
     "cell_type": "markdown",
     "metadata": {},
     "source": [
      "* Diffusion behaviour in nanoporous shale network\n",
      "* Permeability of the nanoporous material"
     ]
    },
    {
     "cell_type": "heading",
     "level": 3,
     "metadata": {},
     "source": [
      "Problems that I am facing now after some time of testing and failing. Oct. 16. 2014"
     ]
    },
    {
     "cell_type": "markdown",
     "metadata": {},
     "source": [
      "I have now made water, and the mineral portlandite. Measured bondlenghts, RDF, ROG and stability of the systems over time. I have made a system in which I want to generate a flow. But how to create the flow? The problem I am facing could be solved easly by just adding an external force to the fluid particles, and wait until the system is stable. This leads to some unphysical happenings, some vaccums are being created, and it is hard to determine an initial velocity state that is close to the final stable state. This to avoid too long simulation time, waiting for the stable state."
     ]
    },
    {
     "cell_type": "heading",
     "level": 3,
     "metadata": {},
     "source": [
      "CO_2 - using the EMP2 model for the Carbon Dioxide force field"
     ]
    },
    {
     "cell_type": "markdown",
     "metadata": {},
     "source": [
      "http://paros.princeton.edu/jerring/gibbs_old/results/co2_emp2/co2_emp2.html\n",
      "Also refering to the article \"Atomistice Molecular Dynamics Simulations of $CO_2$ Diffusivity in $H_2O$ for a Wide Range of Temperatures and Pressures\" by Moultos et.al.\n",
      "IN these datasets, the energy is given in Kelvin, from $ \\epsilon /k_B $, where $ k_B $ is Bolzmanns constant. But in LAMMPS we have to give $ \\epsilon $ in $ [Kcal/mol] $. $ \\epsilon $ is given in Joules, and is $ [Joule] = [Kcal/4184]$. Then it is only to divide by Avogadros number to get $ \\epsilon $ in $ [Kcal/mol] $. So, $ \\epsilon = \\frac{\\epsilon}{k_B} \\cdot k_B \\cdot \\frac{1}{4184 \\cdot N_A} [\\frac{Kcal}{mol}] $. "
     ]
    },
    {
     "cell_type": "markdown",
     "metadata": {},
     "source": [
      "Initializing the $ CO_2 $ we assume that at $ 1atm $ and at $ 0^oC $, then the density $ \\rho = 1.977kg/m^3$. If we want to create a system of $ 20^3 = 8000 $ particles, this is $ 5.84622E-19 g $ ($ CO_2 $\u00a0has a molecular mass of $ 44.0095g/mol $), we easly calculate that the system size has to be $ 666.22 Aangstrom $, which leave a spacing between every atom by $ 33.31 Aangstrom $."
     ]
    },
    {
     "cell_type": "markdown",
     "metadata": {},
     "source": [
      "I found Force Field parameters for CO2 in \"Natural Materials for Carbon Capture\" by Cygan et.al. (see http://prod.sandia.gov/techlib/access-control.cgi/2010/107217.pdf )\n",
      "* Nonbond\n",
      " * $q_c$ = +0.6512 e\n",
      " * $q_o$ = -0.3256 e\n",
      " * $\\epsilon _c$ = 0.2340 kJ/mol = 0.0559kcal/mol\n",
      " * $\\epsilon _o$ = 0.6683 kJ/mol = 0.1597kcal/mol\n",
      " * $\\sigma _c$ = 2.800 \u00c5\n",
      " * $\\sigma _o$ = 3.028 \u00c5\n",
      "* Bond\n",
      " * $k_{CO}$ = 8443 kJ/mol/\u00c5^2 = 2017.93kcal/mol/\u00c5^2\n",
      " * $K_{CO}$ = 6221.5kJ/mol/\u00c5^2 = 1008.965kcal/mol/\u00c5^2  # This is the LAMMPS coefficient that we use in the simulation\n",
      " * $r_{o,CO}$ = 1.162 \u00c5\n",
      " * $k_{OCO} $ = 451.9 kJ/mol/rad^2 = 108.00kcal/mol/ran^2\n",
      " * $K_{OCO} $ = 225.95 kJ/mol/rad^2 = 54.0kcal/mol/ran^2 # This is the LAMMPS coefficient that we use in the simulation\n",
      " * $\\theta _{o,OCO} $ = 180.0 deg"
     ]
    },
    {
     "cell_type": "markdown",
     "metadata": {},
     "source": [
      "Note: When running with the previous parameters (before Cygan) I had trubble getting the correct density of the $CO_2$. It will be interesting if this will change that..."
     ]
    },
    {
     "cell_type": "heading",
     "level": 2,
     "metadata": {},
     "source": [
      "Tetrahedral Structure parameter for water"
     ]
    },
    {
     "cell_type": "heading",
     "level": 2,
     "metadata": {},
     "source": [
      "Poisson's relation, Bulk modulus and Young's modulus"
     ]
    },
    {
     "cell_type": "heading",
     "level": 1,
     "metadata": {},
     "source": [
      "Getting access to Abel"
     ]
    },
    {
     "cell_type": "markdown",
     "metadata": {},
     "source": [
      "I and Josein participated at a course for managing jobs at the supercomputer Abel. Here we learned som shell scripting, and the basics of the queue system slurm. Now we want to make an executable lammps file on our local filesystem at abel.uio.no, so I compress the LAMMPS files in /src and /lib using:"
     ]
    },
    {
     "cell_type": "code",
     "collapsed": false,
     "input": [
      "tar cvf LAMMPS.tar ./lammps-24Jun14/src ./lammps-24Jun14/lib"
     ],
     "language": "python",
     "metadata": {},
     "outputs": [
      {
       "ename": "SyntaxError",
       "evalue": "invalid syntax (<ipython-input-1-113d73032f68>, line 1)",
       "output_type": "pyerr",
       "traceback": [
        "\u001b[0;36m  File \u001b[0;32m\"<ipython-input-1-113d73032f68>\"\u001b[0;36m, line \u001b[0;32m1\u001b[0m\n\u001b[0;31m    tar cvf LAMMPS.tar ./lammps-24Jun14/src ./lammps-24Jun14/lib\u001b[0m\n\u001b[0m          ^\u001b[0m\n\u001b[0;31mSyntaxError\u001b[0m\u001b[0;31m:\u001b[0m invalid syntax\n"
       ]
      }
     ],
     "prompt_number": 1
    },
    {
     "cell_type": "markdown",
     "metadata": {},
     "source": [
      "And then use:"
     ]
    },
    {
     "cell_type": "code",
     "collapsed": false,
     "input": [
      "scp ./LAMMPS.tar goranbs@abel.uio.no:~/master/lammps"
     ],
     "language": "python",
     "metadata": {},
     "outputs": [
      {
       "ename": "SyntaxError",
       "evalue": "invalid syntax (<ipython-input-2-316e9ad69eed>, line 1)",
       "output_type": "pyerr",
       "traceback": [
        "\u001b[0;36m  File \u001b[0;32m\"<ipython-input-2-316e9ad69eed>\"\u001b[0;36m, line \u001b[0;32m1\u001b[0m\n\u001b[0;31m    scp ./LAMMPS.tar goranbs@abel.uio.no:~/master/lammps\u001b[0m\n\u001b[0m         ^\u001b[0m\n\u001b[0;31mSyntaxError\u001b[0m\u001b[0;31m:\u001b[0m invalid syntax\n"
       ]
      }
     ],
     "prompt_number": 2
    },
    {
     "cell_type": "markdown",
     "metadata": {},
     "source": [
      "to upload the file, to my lammps directory at the abel cluster. But before I do this I have to make sure that I have the resources available for such a task on abel. This is done by setting off a node for this purpose, and is done  by the command:"
     ]
    },
    {
     "cell_type": "code",
     "collapsed": false,
     "input": [
      "qlogin --account=nn9271k --time=05:00:00"
     ],
     "language": "python",
     "metadata": {},
     "outputs": [
      {
       "ename": "SyntaxError",
       "evalue": "invalid syntax (<ipython-input-3-8fea4671e4e1>, line 1)",
       "output_type": "pyerr",
       "traceback": [
        "\u001b[0;36m  File \u001b[0;32m\"<ipython-input-3-8fea4671e4e1>\"\u001b[0;36m, line \u001b[0;32m1\u001b[0m\n\u001b[0;31m    qlogin --account=nn9271k --time=05:00:00\u001b[0m\n\u001b[0m                                      ^\u001b[0m\n\u001b[0;31mSyntaxError\u001b[0m\u001b[0;31m:\u001b[0m invalid syntax\n"
       ]
      }
     ],
     "prompt_number": 3
    },
    {
     "cell_type": "markdown",
     "metadata": {},
     "source": [
      "Where the account is the project name/code, and the time is the disired time you want to hold off the node for this purpose. So we uplode the tarball, extract it, and then loads the necessary modules. These are for our purposes the \\textit{intelmpi.intel/5.0.0}, and \\bf{openmpi.intel/1.8.3} to make sure we have the \\bf{icc} compiler availalble so that we can make a linux executable. This is now simply done in \\bf{/src} by typing \\bf{make linux}\n"
     ]
    },
    {
     "cell_type": "code",
     "collapsed": false,
     "input": [],
     "language": "python",
     "metadata": {},
     "outputs": []
    }
   ],
   "metadata": {}
  }
 ]
}